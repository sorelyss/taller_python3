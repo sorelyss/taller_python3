{
 "cells": [
  {
   "cell_type": "markdown",
   "metadata": {},
   "source": [
    "# Tutorial Python 3\n",
    "\n",
    "Este tutorial está basado en <a href=\"http://cs231n.github.io/python-numpy-tutorial/\">este tutorial</a> de la universidad de Standford y otros más en la documentación oficial de Python y las librerías usadas. Python es un lenguaje de programación ampliamente usado en el campo científico por su sintáxis sencilla y legible. La legibilidad de los códigos es bastante importante, tanto que la palabra __pythonic__ hace referencia a esa manera de programar claro y aprovechando los métodos ya existentes para resolver los problemas."
   ]
  },
  {
   "cell_type": "markdown",
   "metadata": {},
   "source": [
    "---\n",
    "#### Tipos de datos:\n",
    "- Números: Integers, floats...\n",
    "- Booleanos: Usados para expresar condiciones\n",
    "- Strings: cadenas de texto\n",
    "\n",
    "- Listas: Arreglo ordenado modificable. El primer elemento siempre es el que tiene indice 0\n",
    "- Diccionarios: Almacena un valor (value) y además le asocia una etiqueta (key)\n",
    "- Sets: Parecidos a las listas pero no permite repetir elementos y tampoco es ordenado. No se puede indexar.\n",
    "- Tuples: Arreglo ordenado inmodificable.\n",
    "\n",
    "#### Ciclos:\n",
    "- For $\\rightarrow$ for x in array: ...\n",
    "- While $\\rightarrow$ while condicion:\n",
    "\n",
    "#### Condicionales:\n",
    "- if\n",
    "- else\n",
    "- elif $\\rightarrow$ Así se escribe el else if\n",
    "##### Condiciones:\n",
    "    * Si igual $\\rightarrow$ ==\n",
    "    * Si mayor que $\\rightarrow$ >\n",
    "    * Si menor que $\\rightarrow$ <\n",
    "    * AND $\\rightarrow$ and \n",
    "    * OR $\\rightarrow$ or\n",
    "    * NOT $\\rightarrow$ not\n",
    "    * Elemento X en VARIABLE $\\rightarrow$ x in variable\n",
    "\n",
    "### OJO! Indentación con 4 espacios después de dos puntos \":\". Es decir después de if, for, while, with, def, class statements."
   ]
  },
  {
   "cell_type": "markdown",
   "metadata": {
    "slideshow": {
     "slide_type": "slide"
    }
   },
   "source": [
    "En Python no es necesario especificar el tipo de dato que tendra una variable. No es posible operar datos de diferente clase, por lo tanto en algunas ocasiones se necesitarán convertir a una clase en común para poder operarlos.\n",
    "\n",
    "Para el caso de los __números__ hay diferentes tipos de números pero los más usados son los enteros y los floats. Estos sí se pueden operar entre ellos. En Python3 la división entre dos números por default será con resultado float. Para obtener la división entera es necesario escribir \"//\" como el operador de división, pero la mayoría de los casos se obtendrá un resultado float. El caso donde la división entera obtiene un resultado entero es cuando se divide un entero//entero."
   ]
  },
  {
   "cell_type": "code",
   "execution_count": 18,
   "metadata": {},
   "outputs": [
    {
     "name": "stdout",
     "output_type": "stream",
     "text": [
      "Verificando el tipo de dato de entero <class 'int'>\n",
      "Verificando el tipo de dato de entero2 <class 'int'>\n",
      "Verificando el tipo de dato de real <class 'float'>\n",
      "Verificando el tipo de dato de real2 <class 'float'>\n",
      "\n",
      "Division float int/float 0.6666666666666666\n",
      "Division float int/int -1.0\n",
      "Division entera int//int -1\n",
      "Division entera entero//float 0.0\n"
     ]
    }
   ],
   "source": [
    "# Definiendo nuestras variables\n",
    "entero = 1\n",
    "entero2 = -1\n",
    "real = 1.5\n",
    "real2 = 1. #esto es como escribir 1.0\n",
    "\n",
    "print('Verificando el tipo de dato de entero', type(entero))\n",
    "print('Verificando el tipo de dato de entero2', type(entero2))\n",
    "print('Verificando el tipo de dato de real', type(real))\n",
    "print('Verificando el tipo de dato de real2', type(real2))\n",
    "\n",
    "print('\\nDivision float int/float', entero/real)\n",
    "print('Division float int/int', entero/entero2)\n",
    "print('Division entera int//int', entero//entero2)\n",
    "print('Division entera entero//float', entero//real)"
   ]
  },
  {
   "cell_type": "code",
   "execution_count": 19,
   "metadata": {},
   "outputs": [
    {
     "name": "stdout",
     "output_type": "stream",
     "text": [
      "Verificando el tipo de dato de cadena <class 'str'>\n",
      "Verificando el tipo de dato de cadena2 <class 'str'>\n",
      "Suma de strings:  Soy un stringSoy un string tambien\n",
      "\n",
      "Convertir numero a string: 1.5\n",
      "Creeme que soy string! type(real_str): <class 'str'>\n"
     ]
    }
   ],
   "source": [
    "cadena = \"Soy un string\"\n",
    "cadena2 = 'Soy un string tambien'\n",
    "\n",
    "print('Verificando el tipo de dato de cadena', type(cadena))\n",
    "print('Verificando el tipo de dato de cadena2', type(cadena2))\n",
    "print('Suma de strings: ', cadena+cadena2)\n",
    "\n",
    "real_str = str(real)\n",
    "print('\\nConvertir numero a string: ' + real_str)\n",
    "print('Creeme que soy string! type(real_str):', type(real_str))"
   ]
  },
  {
   "cell_type": "markdown",
   "metadata": {},
   "source": [
    "---\n",
    "Las __listas__ son conjuntos de elementos ordenados. Los elementos pueden ser de diferente clase y el tamaño de la lista puede variar."
   ]
  },
  {
   "cell_type": "code",
   "execution_count": 20,
   "metadata": {},
   "outputs": [
    {
     "name": "stdout",
     "output_type": "stream",
     "text": [
      "Verificando el tipo de dato de lista <class 'list'>\n",
      "Lista:  ['hola', 'saludos', 'hi', 1, 'hello']\n",
      "\n",
      "Primer elemento de la lista:  hola\n",
      "Ultimo elemento de la lista:  hello\n",
      "Penultimo elemento de la lista:  1\n",
      "\n",
      "Elementos del 2do al final de la lista:  ['saludos', 'hi', 1, 'hello']\n",
      "Elementos del 2do al 3ro de la lista:  ['saludos', 'hi']\n"
     ]
    }
   ],
   "source": [
    "lista = ['hola','saludos','hi', 1, 'hello']\n",
    "print('Verificando el tipo de dato de lista', type(lista))\n",
    "print('Lista: ', lista)\n",
    "print('\\nPrimer elemento de la lista: ',lista[0])\n",
    "print('Ultimo elemento de la lista: ',lista[-1])\n",
    "print('Penultimo elemento de la lista: ',lista[-2])\n",
    "print('\\nElementos del 2do al final de la lista: ',lista[1:]) # Slicing\n",
    "print('Elementos del 2do al 3ro de la lista: ',lista[1:3])"
   ]
  },
  {
   "cell_type": "code",
   "execution_count": 4,
   "metadata": {},
   "outputs": [
    {
     "name": "stdout",
     "output_type": "stream",
     "text": [
      "---------------------Iterar sobre elementos-----------------\n",
      "Indice del elemento (i): 0 Elemento (x): hola\n",
      "   El resto de casos\n",
      "Indice del elemento (i): 1 Elemento (x): saludos\n",
      "   Entre al condicional en 1 y es el elemento: saludos\n",
      "Indice del elemento (i): 2 Elemento (x): hi\n",
      "   Condicional else condicionado\n",
      "Indice del elemento (i): 3 Elemento (x): 1\n",
      "   El resto de casos\n",
      "Indice del elemento (i): 4 Elemento (x): hello\n",
      "   El resto de casos\n"
     ]
    }
   ],
   "source": [
    "print('---------------------Iterar sobre elementos-----------------')\n",
    "for i,x in enumerate(lista):\n",
    "    print('Indice del elemento (i): ' + str(i), 'Elemento (x): ' + str(x))\n",
    "    if i == 1:\n",
    "        print('   Entre al condicional en', i, 'y es el elemento:',x)\n",
    "    elif i == 2:\n",
    "        print('   Condicional else condicionado')\n",
    "    else:\n",
    "        print('   El resto de casos')"
   ]
  },
  {
   "cell_type": "code",
   "execution_count": 5,
   "metadata": {},
   "outputs": [
    {
     "name": "stdout",
     "output_type": "stream",
     "text": [
      "---------------------Buscar una etiqueta-----------------\n",
      "Elemento 1 sí está en la Lista lista\n",
      "Elemento buenas no está en la Lista lista\n"
     ]
    }
   ],
   "source": [
    "print('---------------------Buscar una etiqueta-----------------')\n",
    "if 1 in lista:\n",
    "    print('Elemento 1 sí está en la Lista lista')\n",
    "if 'buenas' in lista:\n",
    "    print('Elemento buenas sí está en la Lista lista')\n",
    "else:\n",
    "    print('Elemento buenas no está en la Lista lista')"
   ]
  },
  {
   "cell_type": "code",
   "execution_count": 6,
   "metadata": {},
   "outputs": [
    {
     "name": "stdout",
     "output_type": "stream",
     "text": [
      "---------------------Modificar, añadir y eliminar elementos-----------------\n",
      "Lista:  ['hola', 'saludos', 'hi', 1, 'hello']\n",
      "Lista:  ['hola', 'buenas', 'hi', 1, 'hello']\n",
      "Lista:  ['hola', 'buenas', 'hi', 1, 'hello', 'saludos']\n",
      "Lista:  ['hola', 'buenas', 'hi', 1, 'hello']\n"
     ]
    }
   ],
   "source": [
    "lista = ['hola','saludos','hi', 1, 'hello'] # Repetire esta linea aqui para que no tengan problemas con\n",
    "                                            # la cache de Jupyter si corren esta celda varias veces\n",
    "print('---------------------Modificar, añadir y eliminar elementos-----------------')\n",
    "print('Lista: ', lista)\n",
    "lista[1] = 'buenas'     # Modifica el elemento con indice 1 de la lista\n",
    "print('Lista: ', lista)\n",
    "\n",
    "lista.append('saludos') # Añade el elemento 'saludos' al final de la lista\n",
    "print('Lista: ', lista)\n",
    "\n",
    "lista.pop() # Elimina el elemento al final de la lista\n",
    "print('Lista: ', lista)"
   ]
  },
  {
   "cell_type": "markdown",
   "metadata": {},
   "source": [
    "---\n",
    "Los __diccionarios__ almacenan un valor y lo asocian con una etiqueta. El valor puede ser de cualquier tipo, pero la etiqueta debe ser un string.\n",
    "\n",
    "Los diccionarios tienen un método adicional para encontrar si una etiqueta está definida en el diccionario. Obtiene el valor de dicha etiqueta si existe, en caso contrario retorna lo que pongamos como segundo parámetro (RES_FALSE)\n",
    "```python\n",
    "diccionario.get(etiqueta, RES_FALSE)\n",
    "```"
   ]
  },
  {
   "cell_type": "code",
   "execution_count": 21,
   "metadata": {},
   "outputs": [
    {
     "name": "stdout",
     "output_type": "stream",
     "text": [
      "Verificando el tipo de dato de diccionario <class 'dict'>\n",
      "Diccionario:  {'casa': 5, 'edificio': 6}\n",
      "\n",
      "Etiquetas o keys del diccionario: dict_keys(['casa', 'edificio'])\n",
      "Valores del diccionario: dict_values([5, 6])\n"
     ]
    }
   ],
   "source": [
    "diccionario = {'casa': 5, 'edificio': 6}\n",
    "print('Verificando el tipo de dato de diccionario', type(diccionario))\n",
    "print('Diccionario: ', diccionario)\n",
    "print('\\nEtiquetas o keys del diccionario:', diccionario.keys())\n",
    "print('Valores del diccionario:', diccionario.values())"
   ]
  },
  {
   "cell_type": "code",
   "execution_count": 8,
   "metadata": {},
   "outputs": [
    {
     "name": "stdout",
     "output_type": "stream",
     "text": [
      "---------------------Buscar una etiqueta-----------------\n",
      "Este diccionario tiene 5 casas.\n",
      "---------  Usando el método get  ----------\n",
      "Este diccionario tiene 5 casas.\n",
      "Se encuentra apartamento en el diccionario? No\n"
     ]
    }
   ],
   "source": [
    "print('---------------------Buscar una etiqueta-----------------')\n",
    "if 'casa' in diccionario:\n",
    "    print('Este diccionario tiene ' + str(diccionario['casa']) + ' casas.')\n",
    "print('---------  Usando el método get  ----------')\n",
    "print('Este diccionario tiene ' + str(diccionario.get('casa', 0)) + ' casas.') # esta manera es mas pythonic :D\n",
    "\n",
    "print('Se encuentra apartamento en el diccionario?', diccionario.get('apartamento', 'No'))"
   ]
  },
  {
   "cell_type": "code",
   "execution_count": 9,
   "metadata": {},
   "outputs": [
    {
     "name": "stdout",
     "output_type": "stream",
     "text": [
      "---------------------Iterar sobre elementos-----------------\n",
      "key: casa  y value: 5\n",
      "key: edificio  y value: 6\n"
     ]
    }
   ],
   "source": [
    "print('---------------------Iterar sobre elementos-----------------')\n",
    "for x in diccionario:\n",
    "    print('key:', x, ' y value:', diccionario[x])"
   ]
  },
  {
   "cell_type": "code",
   "execution_count": 10,
   "metadata": {},
   "outputs": [
    {
     "name": "stdout",
     "output_type": "stream",
     "text": [
      "---------------------Añadir y eliminar elementos-----------------\n",
      "Se encuentra apartamento en el diccionario? True --- Diccionario:  {'casa': 5, 'edificio': 6, 'apartamento': 3}\n",
      "Se encuentra apartamento en el diccionario? False --- Diccionario:  {'casa': 5, 'edificio': 6}\n"
     ]
    }
   ],
   "source": [
    "diccionario = {'casa': 5, 'edificio': 6} # Repetire esta linea aqui para que no tengan problemas con\n",
    "                                        # la cache de Jupyter si corren esta celda varias veces\n",
    "print('---------------------Añadir y eliminar elementos-----------------')\n",
    "# Añadimos apartamento al diccionario\n",
    "diccionario['apartamento'] = 3\n",
    "print('Se encuentra apartamento en el diccionario?','apartamento' in diccionario, '--- Diccionario: ', diccionario)\n",
    "\n",
    "# Eliminamos apartamento del diccionario\n",
    "del diccionario['apartamento']\n",
    "print('Se encuentra apartamento en el diccionario?','apartamento' in diccionario, '--- Diccionario: ', diccionario)"
   ]
  },
  {
   "cell_type": "markdown",
   "metadata": {},
   "source": [
    "---\n",
    "El ciclo __while__ es usado para repetir un conjunto de operaciones mientras que una condición sea verdadera."
   ]
  },
  {
   "cell_type": "code",
   "execution_count": 11,
   "metadata": {},
   "outputs": [
    {
     "name": "stdout",
     "output_type": "stream",
     "text": [
      "sigo aqui\n",
      "sigo aqui\n",
      "sigo aqui\n",
      "sigo aqui\n",
      "sigo aqui\n",
      "El contador termino con:  5\n"
     ]
    }
   ],
   "source": [
    "i = 0\n",
    "while True:\n",
    "    i = i + 1\n",
    "    print('sigo aqui')\n",
    "    if i == 5:\n",
    "        break\n",
    "print('El contador termino con: ',i)"
   ]
  },
  {
   "cell_type": "code",
   "execution_count": 12,
   "metadata": {},
   "outputs": [
    {
     "name": "stdout",
     "output_type": "stream",
     "text": [
      "Diccionario:  {'a': 1, 'b': 4, 'c': 3} Contador:  0\n",
      "Diccionario:  {'a': 1, 'b': 4, 'c': 3} Contador:  1\n",
      "Diccionario:  {'a': 1, 'b': 4, 'c': 3} Contador:  2\n",
      "Diccionario:  {'a': 1, 'b': 4, 'c': 3} Contador:  3\n",
      "Añadí d a dicc_temp\n",
      "Diccionario:  {'a': 1, 'b': 4, 'c': 3, 'd': 2} Contador:  4 Después de salir del while\n"
     ]
    }
   ],
   "source": [
    "dicc_temp = {'a': 1, 'b': 4, 'c': 3}\n",
    "\n",
    "i = 0\n",
    "while not 'd' in dicc_temp:\n",
    "    print('Diccionario: ', dicc_temp, 'Contador: ', i)\n",
    "    if i == 3:\n",
    "        dicc_temp['d'] = 2\n",
    "        print('Añadí d a dicc_temp')\n",
    "    i += 1\n",
    "    \n",
    "print('Diccionario: ', dicc_temp, 'Contador: ', i, 'Después de salir del while')"
   ]
  },
  {
   "cell_type": "markdown",
   "metadata": {},
   "source": [
    "---\n",
    "Las __funciones__ son un conjunto de operaciones que generalmente se necesitan repetir varias veces en el código por lo tanto se  agrupadan y se nombran. Estas suelen recibir n datos de entrada para realizar su objetivo y devolver un resultado al final.\n",
    "\n",
    "En Python las entradas pueden tener valores por defecto."
   ]
  },
  {
   "cell_type": "code",
   "execution_count": 13,
   "metadata": {},
   "outputs": [
    {
     "name": "stdout",
     "output_type": "stream",
     "text": [
      "Resultado de llamar funcion suma 11\n",
      "Documentacion de una funcion Esta funcion suma los parametros x & y\n"
     ]
    }
   ],
   "source": [
    "def suma(x=0, y=0):\n",
    "    \"\"\"Esta funcion suma los parametros x & y\"\"\"\n",
    "    # operaciones necesarias...\n",
    "    return x + y\n",
    "\n",
    "print('Resultado de llamar funcion suma', suma(y=5, x=6) )\n",
    "\n",
    "\n",
    "print('Documentacion de una funcion', suma.__doc__)\n"
   ]
  },
  {
   "cell_type": "markdown",
   "metadata": {},
   "source": [
    "---\n",
    "Para finalizar, verémos como __graficar funciones en Python__. Para ello necesitaremos importar dos módulos: Pyplot de la librería Matplotlib y Numpy. El código a continuación y más ejemplos se pueden encontrar en <a href=\"https://matplotlib.org/users/pyplot_tutorial.html\">este tutorial</a>.\n",
    "\n",
    "\n",
    "Asegurense de haber instalado matplotlib y numpy. Esto se puede hacer de la siguiente manera:\n",
    "```bash\n",
    "pip install matplotlib numpy\n",
    "```"
   ]
  },
  {
   "cell_type": "code",
   "execution_count": 14,
   "metadata": {},
   "outputs": [],
   "source": [
    "# Importando los módulos necesarios\n",
    "import matplotlib.pyplot as plt\n",
    "import numpy as np"
   ]
  },
  {
   "cell_type": "code",
   "execution_count": 15,
   "metadata": {},
   "outputs": [
    {
     "data": {
      "image/png": "[encoded data removed]",
      "text/plain": [
       "<matplotlib.figure.Figure at 0x2925eba4da0>"
      ]
     },
     "metadata": {},
     "output_type": "display_data"
    }
   ],
   "source": [
    "t = np.arange(0.0, 1.0, 0.01) # Crea el vector de tiempo\n",
    "x = np.sin(4*np.pi*t)         # Crea la señal\n",
    "plt.plot(t,x)                 # Crea el gráfico\n",
    "plt.show()                    # Muestra el gráfico"
   ]
  },
  {
   "cell_type": "code",
   "execution_count": null,
   "metadata": {
    "collapsed": true
   },
   "outputs": [],
   "source": []
  }
 ],
 "metadata": {
  "kernelspec": {
   "display_name": "Python 3",
   "language": "python",
   "name": "python3"
  },
  "language_info": {
   "codemirror_mode": {
    "name": "ipython",
    "version": 3
   },
   "file_extension": ".py",
   "mimetype": "text/x-python",
   "name": "python",
   "nbconvert_exporter": "python",
   "pygments_lexer": "ipython3",
   "version": "3.6.1"
  }
 },
 "nbformat": 4,
 "nbformat_minor": 2
}
