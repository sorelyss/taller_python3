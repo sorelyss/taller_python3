{
 "cells": [
  {
   "cell_type": "markdown",
   "metadata": {},
   "source": [
    "# Tutorial Jupyter\n",
    "\n",
    "Jupyter es un entorno dividido en secciones o celdas. Dichas secciones pueden ejecutar un código (usualmente de Python) o generar un texto con estílo (desde fuentes con distintos tamaños, negrita, colores hasta ecuaciones e imágenes). Además las celdas se pueden correr en el ícono play en la barra o presionando __shift + enter__\n",
    "\n",
    "La opción __Markdown__ les permite escribir estos textos con estílo. Soporta HTML y también tiene unas maneras más cortas de cambiar el estilo de la fuente. Las más usadas son:\n",
    "\n",
    "1) Texto en negrita con \"\\__ texto en negrita \\__\".\n",
    "\n",
    "2) Títulos o cabeceras con singo \"\\#\". Entre más signos # haya más pequeño será el título producido.\n",
    "\n",
    "3) Las listas se pueden crear numerando cada item o agregando \"-\" o \"*\".\n",
    "\n",
    "4) Las ecuaciones de latex entre signos \"\\$ ecuación latex \\$\".\n",
    "\n",
    "5) Similar a cómo se hace en GitHub, colocar snippets de código se hace \"\\```python EL CÓDIGO \\```\"\n",
    "\n",
    "\n",
    "Para más información sobre Jupyter pueden revisar su documentación oficial <a href=\"http://jupyter-notebook.readthedocs.io/en/latest/examples/Notebook/Working%20With%20Markdown%20Cells.html#Local-files\"> aquí. </a>\n"
   ]
  },
  {
   "cell_type": "markdown",
   "metadata": {},
   "source": [
    "------------\n",
    "```markdown\n",
    "# Hola mi nombre es Título Grande\n",
    "## Soy mas chiquito\n",
    "\n",
    "* Lista con estrella\n",
    "- Lista con guión\n",
    "\n",
    "1) Lista con número\n",
    "\n",
    "    1) Otro\n",
    "    2) Otro\n",
    "    \n",
    "2) Otro item con número\n",
    "\n",
    "Ecuación $e^{i\\pi} + 1 = 0$ \n",
    "\n",
    "```python\n",
    "#python code\n",
    "def funcion(entrada):\n",
    "    \"\"\"descripción o doc\"\"\"\n",
    "    return entrada\n",
    "\n",
    "```\n",
    "\n",
    "#### Celda compilada\n",
    "\n",
    "# Hola mi nombre es Titulo Grande\n",
    "## Soy mas chiquito\n",
    "\n",
    "* Lista con estrella\n",
    "- Lista con guión\n",
    "\n",
    "1) Lista con número\n",
    "\n",
    "    1) Otro\n",
    "    2) Otro\n",
    "    \n",
    "2) Otro item con número\n",
    "\n",
    "Ecuación $e^{i\\pi} + 1 = 0$ \n",
    "\n",
    "```python\n",
    "# python code\n",
    "def funcion(entrada):\n",
    "    \"\"\"descripción o doc\"\"\"\n",
    "    return entrada\n",
    "```"
   ]
  },
  {
   "cell_type": "markdown",
   "metadata": {},
   "source": [
    "----------------------------------------------------------\n",
    "La opción __Code__ les permite escribir secciones de código, generalmente de Python."
   ]
  },
  {
   "cell_type": "code",
   "execution_count": 1,
   "metadata": {},
   "outputs": [
    {
     "name": "stdout",
     "output_type": "stream",
     "text": [
      "Hola mundo\n"
     ]
    }
   ],
   "source": [
    "x = \"Hola mundo\"\n",
    "\n",
    "print(x)"
   ]
  },
  {
   "cell_type": "code",
   "execution_count": null,
   "metadata": {
    "collapsed": true
   },
   "outputs": [],
   "source": []
  }
 ],
 "metadata": {
  "kernelspec": {
   "display_name": "Python 3",
   "language": "python",
   "name": "python3"
  },
  "language_info": {
   "codemirror_mode": {
    "name": "ipython",
    "version": 3
   },
   "file_extension": ".py",
   "mimetype": "text/x-python",
   "name": "python",
   "nbconvert_exporter": "python",
   "pygments_lexer": "ipython3",
   "version": "3.6.1"
  }
 },
 "nbformat": 4,
 "nbformat_minor": 2
}
